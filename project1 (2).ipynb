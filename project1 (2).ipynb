{
 "cells": [
  {
   "cell_type": "code",
   "execution_count": 1,
   "id": "92ed2393",
   "metadata": {},
   "outputs": [],
   "source": [
    "\n",
    "#Name: 1) BHAWANI MAHTO(22030460016) 2) AYUSH RANJAN(22030460014) 3)ASHISH MAHATO(22030460013) 4)ABHAY KUMAR(22030460002)\n",
    "#___________________________________________________________________________________________________________________________\n",
    "#topic: single-variable linear regression of semester gpa vs weekly hours of study\n",
    "#___________________________________________________________________________________________________________________________\n",
    "\n",
    "#importing neccesary libraries\n",
    "import seaborn as sns\n",
    "import pandas as pd\n",
    "import numpy as np\n",
    "import matplotlib.pyplot as plt\n",
    "from sklearn import linear_model"
   ]
  },
  {
   "cell_type": "code",
   "execution_count": 2,
   "id": "5313dbd6",
   "metadata": {},
   "outputs": [
    {
     "data": {
      "text/html": [
       "<div>\n",
       "<style scoped>\n",
       "    .dataframe tbody tr th:only-of-type {\n",
       "        vertical-align: middle;\n",
       "    }\n",
       "\n",
       "    .dataframe tbody tr th {\n",
       "        vertical-align: top;\n",
       "    }\n",
       "\n",
       "    .dataframe thead th {\n",
       "        text-align: right;\n",
       "    }\n",
       "</style>\n",
       "<table border=\"1\" class=\"dataframe\">\n",
       "  <thead>\n",
       "    <tr style=\"text-align: right;\">\n",
       "      <th></th>\n",
       "      <th>gpa</th>\n",
       "      <th>study_hours</th>\n",
       "    </tr>\n",
       "  </thead>\n",
       "  <tbody>\n",
       "    <tr>\n",
       "      <th>0</th>\n",
       "      <td>4.00</td>\n",
       "      <td>10.0</td>\n",
       "    </tr>\n",
       "    <tr>\n",
       "      <th>1</th>\n",
       "      <td>3.80</td>\n",
       "      <td>25.0</td>\n",
       "    </tr>\n",
       "    <tr>\n",
       "      <th>2</th>\n",
       "      <td>3.93</td>\n",
       "      <td>45.0</td>\n",
       "    </tr>\n",
       "    <tr>\n",
       "      <th>3</th>\n",
       "      <td>3.40</td>\n",
       "      <td>10.0</td>\n",
       "    </tr>\n",
       "    <tr>\n",
       "      <th>4</th>\n",
       "      <td>3.20</td>\n",
       "      <td>4.0</td>\n",
       "    </tr>\n",
       "    <tr>\n",
       "      <th>...</th>\n",
       "      <td>...</td>\n",
       "      <td>...</td>\n",
       "    </tr>\n",
       "    <tr>\n",
       "      <th>188</th>\n",
       "      <td>3.60</td>\n",
       "      <td>24.0</td>\n",
       "    </tr>\n",
       "    <tr>\n",
       "      <th>189</th>\n",
       "      <td>3.70</td>\n",
       "      <td>12.0</td>\n",
       "    </tr>\n",
       "    <tr>\n",
       "      <th>190</th>\n",
       "      <td>3.84</td>\n",
       "      <td>15.0</td>\n",
       "    </tr>\n",
       "    <tr>\n",
       "      <th>191</th>\n",
       "      <td>3.80</td>\n",
       "      <td>10.0</td>\n",
       "    </tr>\n",
       "    <tr>\n",
       "      <th>192</th>\n",
       "      <td>3.10</td>\n",
       "      <td>15.0</td>\n",
       "    </tr>\n",
       "  </tbody>\n",
       "</table>\n",
       "<p>193 rows × 2 columns</p>\n",
       "</div>"
      ],
      "text/plain": [
       "      gpa  study_hours\n",
       "0    4.00         10.0\n",
       "1    3.80         25.0\n",
       "2    3.93         45.0\n",
       "3    3.40         10.0\n",
       "4    3.20          4.0\n",
       "..    ...          ...\n",
       "188  3.60         24.0\n",
       "189  3.70         12.0\n",
       "190  3.84         15.0\n",
       "191  3.80         10.0\n",
       "192  3.10         15.0\n",
       "\n",
       "[193 rows x 2 columns]"
      ]
     },
     "execution_count": 2,
     "metadata": {},
     "output_type": "execute_result"
    }
   ],
   "source": [
    "#reading the data-set cdv file stored \n",
    "df=pd.read_csv(\"C:\\\\Users\\\\dell\\\\Downloads\\\\gpa_study_hours.csv\")\n",
    "df"
   ]
  },
  {
   "cell_type": "code",
   "execution_count": 3,
   "id": "3f3046e6",
   "metadata": {},
   "outputs": [
    {
     "data": {
      "text/html": [
       "<div>\n",
       "<style scoped>\n",
       "    .dataframe tbody tr th:only-of-type {\n",
       "        vertical-align: middle;\n",
       "    }\n",
       "\n",
       "    .dataframe tbody tr th {\n",
       "        vertical-align: top;\n",
       "    }\n",
       "\n",
       "    .dataframe thead th {\n",
       "        text-align: right;\n",
       "    }\n",
       "</style>\n",
       "<table border=\"1\" class=\"dataframe\">\n",
       "  <thead>\n",
       "    <tr style=\"text-align: right;\">\n",
       "      <th></th>\n",
       "      <th>study_hours</th>\n",
       "      <th>gpa</th>\n",
       "    </tr>\n",
       "  </thead>\n",
       "  <tbody>\n",
       "    <tr>\n",
       "      <th>0</th>\n",
       "      <td>10.0</td>\n",
       "      <td>4.00</td>\n",
       "    </tr>\n",
       "    <tr>\n",
       "      <th>1</th>\n",
       "      <td>25.0</td>\n",
       "      <td>3.80</td>\n",
       "    </tr>\n",
       "    <tr>\n",
       "      <th>2</th>\n",
       "      <td>45.0</td>\n",
       "      <td>3.93</td>\n",
       "    </tr>\n",
       "    <tr>\n",
       "      <th>3</th>\n",
       "      <td>10.0</td>\n",
       "      <td>3.40</td>\n",
       "    </tr>\n",
       "    <tr>\n",
       "      <th>4</th>\n",
       "      <td>4.0</td>\n",
       "      <td>3.20</td>\n",
       "    </tr>\n",
       "    <tr>\n",
       "      <th>...</th>\n",
       "      <td>...</td>\n",
       "      <td>...</td>\n",
       "    </tr>\n",
       "    <tr>\n",
       "      <th>188</th>\n",
       "      <td>24.0</td>\n",
       "      <td>3.60</td>\n",
       "    </tr>\n",
       "    <tr>\n",
       "      <th>189</th>\n",
       "      <td>12.0</td>\n",
       "      <td>3.70</td>\n",
       "    </tr>\n",
       "    <tr>\n",
       "      <th>190</th>\n",
       "      <td>15.0</td>\n",
       "      <td>3.84</td>\n",
       "    </tr>\n",
       "    <tr>\n",
       "      <th>191</th>\n",
       "      <td>10.0</td>\n",
       "      <td>3.80</td>\n",
       "    </tr>\n",
       "    <tr>\n",
       "      <th>192</th>\n",
       "      <td>15.0</td>\n",
       "      <td>3.10</td>\n",
       "    </tr>\n",
       "  </tbody>\n",
       "</table>\n",
       "<p>193 rows × 2 columns</p>\n",
       "</div>"
      ],
      "text/plain": [
       "     study_hours   gpa\n",
       "0           10.0  4.00\n",
       "1           25.0  3.80\n",
       "2           45.0  3.93\n",
       "3           10.0  3.40\n",
       "4            4.0  3.20\n",
       "..           ...   ...\n",
       "188         24.0  3.60\n",
       "189         12.0  3.70\n",
       "190         15.0  3.84\n",
       "191         10.0  3.80\n",
       "192         15.0  3.10\n",
       "\n",
       "[193 rows x 2 columns]"
      ]
     },
     "execution_count": 3,
     "metadata": {},
     "output_type": "execute_result"
    }
   ],
   "source": [
    "df=df[['study_hours','gpa']]\n",
    "df"
   ]
  },
  {
   "cell_type": "code",
   "execution_count": 4,
   "id": "2fcdfb61",
   "metadata": {},
   "outputs": [],
   "source": [
    "x=df['study_hours']\n",
    "y=df['gpa']"
   ]
  },
  {
   "cell_type": "code",
   "execution_count": 5,
   "id": "cdb6d09d",
   "metadata": {},
   "outputs": [
    {
     "data": {
      "text/plain": [
       "Text(0, 0.5, 'gpa')"
      ]
     },
     "execution_count": 5,
     "metadata": {},
     "output_type": "execute_result"
    },
    {
     "data": {
      "image/png": "[encoded data removed]",
      "text/plain": [
       "<Figure size 640x480 with 1 Axes>"
      ]
     },
     "metadata": {},
     "output_type": "display_data"
    }
   ],
   "source": [
    "import matplotlib.pyplot as plt\n",
    "plt.scatter(x,y,color='red',marker='+')\n",
    "plt.xlabel(\"study_hours(per week)\")\n",
    "plt.ylabel(\"gpa\")"
   ]
  },
  {
   "cell_type": "code",
   "execution_count": 6,
   "id": "2667a2df",
   "metadata": {},
   "outputs": [],
   "source": [
    "#splitting the imported data-set into 60% training data and 40% testing data\n",
    "from sklearn.model_selection import train_test_split\n",
    "x_train,x_test,y_train,y_test=train_test_split(x,y,test_size=0.4,random_state=23)"
   ]
  },
  {
   "cell_type": "code",
   "execution_count": 7,
   "id": "6aa4ebc1",
   "metadata": {},
   "outputs": [
    {
     "data": {
      "text/plain": [
       "144    10.0\n",
       "181     5.0\n",
       "96      8.0\n",
       "132    20.0\n",
       "176     7.0\n",
       "       ... \n",
       "91     18.0\n",
       "31     20.0\n",
       "182    30.0\n",
       "40     10.0\n",
       "83     69.0\n",
       "Name: study_hours, Length: 115, dtype: float64"
      ]
     },
     "execution_count": 7,
     "metadata": {},
     "output_type": "execute_result"
    }
   ],
   "source": [
    "x_train"
   ]
  },
  {
   "cell_type": "code",
   "execution_count": 8,
   "id": "97a2cac4",
   "metadata": {},
   "outputs": [
    {
     "data": {
      "text/plain": [
       "144    3.500\n",
       "181    3.925\n",
       "96     3.900\n",
       "132    3.925\n",
       "176    3.500\n",
       "       ...  \n",
       "91     2.910\n",
       "31     3.000\n",
       "182    3.840\n",
       "40     3.900\n",
       "83     3.850\n",
       "Name: gpa, Length: 115, dtype: float64"
      ]
     },
     "execution_count": 8,
     "metadata": {},
     "output_type": "execute_result"
    }
   ],
   "source": [
    "y_train"
   ]
  },
  {
   "cell_type": "code",
   "execution_count": 9,
   "id": "5300e8fb",
   "metadata": {},
   "outputs": [
    {
     "data": {
      "text/plain": [
       "array([[10. ],\n",
       "       [ 5. ],\n",
       "       [ 8. ],\n",
       "       [20. ],\n",
       "       [ 7. ],\n",
       "       [40. ],\n",
       "       [10. ],\n",
       "       [ 6. ],\n",
       "       [24. ],\n",
       "       [40. ],\n",
       "       [10. ],\n",
       "       [28. ],\n",
       "       [10. ],\n",
       "       [15. ],\n",
       "       [20. ],\n",
       "       [45. ],\n",
       "       [10. ],\n",
       "       [15. ],\n",
       "       [12. ],\n",
       "       [ 8. ],\n",
       "       [30. ],\n",
       "       [ 5. ],\n",
       "       [60. ],\n",
       "       [21. ],\n",
       "       [10. ],\n",
       "       [24. ],\n",
       "       [30. ],\n",
       "       [14. ],\n",
       "       [20. ],\n",
       "       [10. ],\n",
       "       [10. ],\n",
       "       [35. ],\n",
       "       [10. ],\n",
       "       [ 4. ],\n",
       "       [10. ],\n",
       "       [20. ],\n",
       "       [20. ],\n",
       "       [14. ],\n",
       "       [20. ],\n",
       "       [14. ],\n",
       "       [10. ],\n",
       "       [15. ],\n",
       "       [20. ],\n",
       "       [60. ],\n",
       "       [14. ],\n",
       "       [30. ],\n",
       "       [10. ],\n",
       "       [10. ],\n",
       "       [ 7. ],\n",
       "       [10. ],\n",
       "       [25. ],\n",
       "       [ 7. ],\n",
       "       [20. ],\n",
       "       [15. ],\n",
       "       [12.5],\n",
       "       [10. ],\n",
       "       [ 5. ],\n",
       "       [20. ],\n",
       "       [15. ],\n",
       "       [10. ],\n",
       "       [ 5. ],\n",
       "       [10. ],\n",
       "       [15. ],\n",
       "       [25. ],\n",
       "       [10. ],\n",
       "       [ 6. ],\n",
       "       [30. ],\n",
       "       [20. ],\n",
       "       [15. ],\n",
       "       [30. ],\n",
       "       [16. ],\n",
       "       [ 5. ],\n",
       "       [14. ],\n",
       "       [10. ],\n",
       "       [35. ],\n",
       "       [12. ],\n",
       "       [ 6. ],\n",
       "       [ 2. ],\n",
       "       [60. ],\n",
       "       [25. ],\n",
       "       [21. ],\n",
       "       [49. ],\n",
       "       [14. ],\n",
       "       [10. ],\n",
       "       [ 8. ],\n",
       "       [10. ],\n",
       "       [15. ],\n",
       "       [ 8. ],\n",
       "       [12. ],\n",
       "       [11. ],\n",
       "       [20. ],\n",
       "       [ 9. ],\n",
       "       [20. ],\n",
       "       [20. ],\n",
       "       [36. ],\n",
       "       [15. ],\n",
       "       [10. ],\n",
       "       [10. ],\n",
       "       [25. ],\n",
       "       [12. ],\n",
       "       [12. ],\n",
       "       [15. ],\n",
       "       [15. ],\n",
       "       [ 8. ],\n",
       "       [ 4. ],\n",
       "       [24. ],\n",
       "       [28. ],\n",
       "       [ 8. ],\n",
       "       [10. ],\n",
       "       [15. ],\n",
       "       [18. ],\n",
       "       [20. ],\n",
       "       [30. ],\n",
       "       [10. ],\n",
       "       [69. ]])"
      ]
     },
     "execution_count": 9,
     "metadata": {},
     "output_type": "execute_result"
    }
   ],
   "source": [
    "import numpy as np\n",
    "x_train=np.array(x_train).reshape(-1,1)\n",
    "x_train"
   ]
  },
  {
   "cell_type": "code",
   "execution_count": 10,
   "id": "209d0384",
   "metadata": {},
   "outputs": [],
   "source": [
    "from sklearn.linear_model import LinearRegression"
   ]
  },
  {
   "cell_type": "code",
   "execution_count": 11,
   "id": "572d236e",
   "metadata": {},
   "outputs": [],
   "source": [
    "lr=LinearRegression()"
   ]
  },
  {
   "cell_type": "code",
   "execution_count": 12,
   "id": "7552ae04",
   "metadata": {},
   "outputs": [
    {
     "data": {
      "text/html": [
       "<style>#sk-container-id-1 {color: black;}#sk-container-id-1 pre{padding: 0;}#sk-container-id-1 div.sk-toggleable {background-color: white;}#sk-container-id-1 label.sk-toggleable__label {cursor: pointer;display: block;width: 100%;margin-bottom: 0;padding: 0.3em;box-sizing: border-box;text-align: center;}#sk-container-id-1 label.sk-toggleable__label-arrow:before {content: \"▸\";float: left;margin-right: 0.25em;color: #696969;}#sk-container-id-1 label.sk-toggleable__label-arrow:hover:before {color: black;}#sk-container-id-1 div.sk-estimator:hover label.sk-toggleable__label-arrow:before {color: black;}#sk-container-id-1 div.sk-toggleable__content {max-height: 0;max-width: 0;overflow: hidden;text-align: left;background-color: #f0f8ff;}#sk-container-id-1 div.sk-toggleable__content pre {margin: 0.2em;color: black;border-radius: 0.25em;background-color: #f0f8ff;}#sk-container-id-1 input.sk-toggleable__control:checked~div.sk-toggleable__content {max-height: 200px;max-width: 100%;overflow: auto;}#sk-container-id-1 input.sk-toggleable__control:checked~label.sk-toggleable__label-arrow:before {content: \"▾\";}#sk-container-id-1 div.sk-estimator input.sk-toggleable__control:checked~label.sk-toggleable__label {background-color: #d4ebff;}#sk-container-id-1 div.sk-label input.sk-toggleable__control:checked~label.sk-toggleable__label {background-color: #d4ebff;}#sk-container-id-1 input.sk-hidden--visually {border: 0;clip: rect(1px 1px 1px 1px);clip: rect(1px, 1px, 1px, 1px);height: 1px;margin: -1px;overflow: hidden;padding: 0;position: absolute;width: 1px;}#sk-container-id-1 div.sk-estimator {font-family: monospace;background-color: #f0f8ff;border: 1px dotted black;border-radius: 0.25em;box-sizing: border-box;margin-bottom: 0.5em;}#sk-container-id-1 div.sk-estimator:hover {background-color: #d4ebff;}#sk-container-id-1 div.sk-parallel-item::after {content: \"\";width: 100%;border-bottom: 1px solid gray;flex-grow: 1;}#sk-container-id-1 div.sk-label:hover label.sk-toggleable__label {background-color: #d4ebff;}#sk-container-id-1 div.sk-serial::before {content: \"\";position: absolute;border-left: 1px solid gray;box-sizing: border-box;top: 0;bottom: 0;left: 50%;z-index: 0;}#sk-container-id-1 div.sk-serial {display: flex;flex-direction: column;align-items: center;background-color: white;padding-right: 0.2em;padding-left: 0.2em;position: relative;}#sk-container-id-1 div.sk-item {position: relative;z-index: 1;}#sk-container-id-1 div.sk-parallel {display: flex;align-items: stretch;justify-content: center;background-color: white;position: relative;}#sk-container-id-1 div.sk-item::before, #sk-container-id-1 div.sk-parallel-item::before {content: \"\";position: absolute;border-left: 1px solid gray;box-sizing: border-box;top: 0;bottom: 0;left: 50%;z-index: -1;}#sk-container-id-1 div.sk-parallel-item {display: flex;flex-direction: column;z-index: 1;position: relative;background-color: white;}#sk-container-id-1 div.sk-parallel-item:first-child::after {align-self: flex-end;width: 50%;}#sk-container-id-1 div.sk-parallel-item:last-child::after {align-self: flex-start;width: 50%;}#sk-container-id-1 div.sk-parallel-item:only-child::after {width: 0;}#sk-container-id-1 div.sk-dashed-wrapped {border: 1px dashed gray;margin: 0 0.4em 0.5em 0.4em;box-sizing: border-box;padding-bottom: 0.4em;background-color: white;}#sk-container-id-1 div.sk-label label {font-family: monospace;font-weight: bold;display: inline-block;line-height: 1.2em;}#sk-container-id-1 div.sk-label-container {text-align: center;}#sk-container-id-1 div.sk-container {/* jupyter's `normalize.less` sets `[hidden] { display: none; }` but bootstrap.min.css set `[hidden] { display: none !important; }` so we also need the `!important` here to be able to override the default hidden behavior on the sphinx rendered scikit-learn.org. See: https://github.com/scikit-learn/scikit-learn/issues/21755 */display: inline-block !important;position: relative;}#sk-container-id-1 div.sk-text-repr-fallback {display: none;}</style><div id=\"sk-container-id-1\" class=\"sk-top-container\"><div class=\"sk-text-repr-fallback\"><pre>LinearRegression()</pre><b>In a Jupyter environment, please rerun this cell to show the HTML representation or trust the notebook. <br />On GitHub, the HTML representation is unable to render, please try loading this page with nbviewer.org.</b></div><div class=\"sk-container\" hidden><div class=\"sk-item\"><div class=\"sk-estimator sk-toggleable\"><input class=\"sk-toggleable__control sk-hidden--visually\" id=\"sk-estimator-id-1\" type=\"checkbox\" checked><label for=\"sk-estimator-id-1\" class=\"sk-toggleable__label sk-toggleable__label-arrow\">LinearRegression</label><div class=\"sk-toggleable__content\"><pre>LinearRegression()</pre></div></div></div></div></div>"
      ],
      "text/plain": [
       "LinearRegression()"
      ]
     },
     "execution_count": 12,
     "metadata": {},
     "output_type": "execute_result"
    }
   ],
   "source": [
    "lr.fit(x_train,y_train)"
   ]
  },
  {
   "cell_type": "code",
   "execution_count": 13,
   "id": "b85cc757",
   "metadata": {},
   "outputs": [],
   "source": [
    "c=lr.intercept_"
   ]
  },
  {
   "cell_type": "code",
   "execution_count": 14,
   "id": "110b26e4",
   "metadata": {},
   "outputs": [
    {
     "data": {
      "text/plain": [
       "3.537779104319643"
      ]
     },
     "execution_count": 14,
     "metadata": {},
     "output_type": "execute_result"
    }
   ],
   "source": [
    "c"
   ]
  },
  {
   "cell_type": "code",
   "execution_count": 15,
   "id": "d160c63a",
   "metadata": {},
   "outputs": [
    {
     "data": {
      "text/plain": [
       "array([0.00214168])"
      ]
     },
     "execution_count": 15,
     "metadata": {},
     "output_type": "execute_result"
    }
   ],
   "source": [
    "m=lr.coef_\n",
    "m"
   ]
  },
  {
   "cell_type": "code",
   "execution_count": 16,
   "id": "12f8ca2f",
   "metadata": {
    "scrolled": true
   },
   "outputs": [
    {
     "data": {
      "text/plain": [
       "array([[3.55919589],\n",
       "       [3.5484875 ],\n",
       "       [3.55491253],\n",
       "       [3.58061267],\n",
       "       [3.55277085],\n",
       "       [3.62344624],\n",
       "       [3.55919589],\n",
       "       [3.55062918],\n",
       "       [3.58917939],\n",
       "       [3.62344624],\n",
       "       [3.55919589],\n",
       "       [3.5977461 ],\n",
       "       [3.55919589],\n",
       "       [3.56990428],\n",
       "       [3.58061267],\n",
       "       [3.63415463],\n",
       "       [3.55919589],\n",
       "       [3.56990428],\n",
       "       [3.56347925],\n",
       "       [3.55491253],\n",
       "       [3.60202946],\n",
       "       [3.5484875 ],\n",
       "       [3.66627981],\n",
       "       [3.58275435],\n",
       "       [3.55919589],\n",
       "       [3.58917939],\n",
       "       [3.60202946],\n",
       "       [3.5677626 ],\n",
       "       [3.58061267],\n",
       "       [3.55919589],\n",
       "       [3.55919589],\n",
       "       [3.61273785],\n",
       "       [3.55919589],\n",
       "       [3.54634582],\n",
       "       [3.55919589],\n",
       "       [3.58061267],\n",
       "       [3.58061267],\n",
       "       [3.5677626 ],\n",
       "       [3.58061267],\n",
       "       [3.5677626 ],\n",
       "       [3.55919589],\n",
       "       [3.56990428],\n",
       "       [3.58061267],\n",
       "       [3.66627981],\n",
       "       [3.5677626 ],\n",
       "       [3.60202946],\n",
       "       [3.55919589],\n",
       "       [3.55919589],\n",
       "       [3.55277085],\n",
       "       [3.55919589],\n",
       "       [3.59132107],\n",
       "       [3.55277085],\n",
       "       [3.58061267],\n",
       "       [3.56990428],\n",
       "       [3.56455009],\n",
       "       [3.55919589],\n",
       "       [3.5484875 ],\n",
       "       [3.58061267],\n",
       "       [3.56990428],\n",
       "       [3.55919589],\n",
       "       [3.5484875 ],\n",
       "       [3.55919589],\n",
       "       [3.56990428],\n",
       "       [3.59132107],\n",
       "       [3.55919589],\n",
       "       [3.55062918],\n",
       "       [3.60202946],\n",
       "       [3.58061267],\n",
       "       [3.56990428],\n",
       "       [3.60202946],\n",
       "       [3.57204596],\n",
       "       [3.5484875 ],\n",
       "       [3.5677626 ],\n",
       "       [3.55919589],\n",
       "       [3.61273785],\n",
       "       [3.56347925],\n",
       "       [3.55062918],\n",
       "       [3.54206246],\n",
       "       [3.66627981],\n",
       "       [3.59132107],\n",
       "       [3.58275435],\n",
       "       [3.64272135],\n",
       "       [3.5677626 ],\n",
       "       [3.55919589],\n",
       "       [3.55491253],\n",
       "       [3.55919589],\n",
       "       [3.56990428],\n",
       "       [3.55491253],\n",
       "       [3.56347925],\n",
       "       [3.56133757],\n",
       "       [3.58061267],\n",
       "       [3.55705421],\n",
       "       [3.58061267],\n",
       "       [3.58061267],\n",
       "       [3.61487953],\n",
       "       [3.56990428],\n",
       "       [3.55919589],\n",
       "       [3.55919589],\n",
       "       [3.59132107],\n",
       "       [3.56347925],\n",
       "       [3.56347925],\n",
       "       [3.56990428],\n",
       "       [3.56990428],\n",
       "       [3.55491253],\n",
       "       [3.54634582],\n",
       "       [3.58917939],\n",
       "       [3.5977461 ],\n",
       "       [3.55491253],\n",
       "       [3.55919589],\n",
       "       [3.56990428],\n",
       "       [3.57632932],\n",
       "       [3.58061267],\n",
       "       [3.60202946],\n",
       "       [3.55919589],\n",
       "       [3.68555492]])"
      ]
     },
     "execution_count": 16,
     "metadata": {},
     "output_type": "execute_result"
    }
   ],
   "source": [
    "y_pred_train=m*x_train+c\n",
    "y_pred_train"
   ]
  },
  {
   "cell_type": "code",
   "execution_count": 17,
   "id": "c8230ba2",
   "metadata": {},
   "outputs": [],
   "source": [
    "y_pred_train1=lr.predict(x_train)"
   ]
  },
  {
   "cell_type": "code",
   "execution_count": 18,
   "id": "a3c399c0",
   "metadata": {},
   "outputs": [
    {
     "data": {
      "text/plain": [
       "array([3.55919589, 3.5484875 , 3.55491253, 3.58061267, 3.55277085,\n",
       "       3.62344624, 3.55919589, 3.55062918, 3.58917939, 3.62344624,\n",
       "       3.55919589, 3.5977461 , 3.55919589, 3.56990428, 3.58061267,\n",
       "       3.63415463, 3.55919589, 3.56990428, 3.56347925, 3.55491253,\n",
       "       3.60202946, 3.5484875 , 3.66627981, 3.58275435, 3.55919589,\n",
       "       3.58917939, 3.60202946, 3.5677626 , 3.58061267, 3.55919589,\n",
       "       3.55919589, 3.61273785, 3.55919589, 3.54634582, 3.55919589,\n",
       "       3.58061267, 3.58061267, 3.5677626 , 3.58061267, 3.5677626 ,\n",
       "       3.55919589, 3.56990428, 3.58061267, 3.66627981, 3.5677626 ,\n",
       "       3.60202946, 3.55919589, 3.55919589, 3.55277085, 3.55919589,\n",
       "       3.59132107, 3.55277085, 3.58061267, 3.56990428, 3.56455009,\n",
       "       3.55919589, 3.5484875 , 3.58061267, 3.56990428, 3.55919589,\n",
       "       3.5484875 , 3.55919589, 3.56990428, 3.59132107, 3.55919589,\n",
       "       3.55062918, 3.60202946, 3.58061267, 3.56990428, 3.60202946,\n",
       "       3.57204596, 3.5484875 , 3.5677626 , 3.55919589, 3.61273785,\n",
       "       3.56347925, 3.55062918, 3.54206246, 3.66627981, 3.59132107,\n",
       "       3.58275435, 3.64272135, 3.5677626 , 3.55919589, 3.55491253,\n",
       "       3.55919589, 3.56990428, 3.55491253, 3.56347925, 3.56133757,\n",
       "       3.58061267, 3.55705421, 3.58061267, 3.58061267, 3.61487953,\n",
       "       3.56990428, 3.55919589, 3.55919589, 3.59132107, 3.56347925,\n",
       "       3.56347925, 3.56990428, 3.56990428, 3.55491253, 3.54634582,\n",
       "       3.58917939, 3.5977461 , 3.55491253, 3.55919589, 3.56990428,\n",
       "       3.57632932, 3.58061267, 3.60202946, 3.55919589, 3.68555492])"
      ]
     },
     "execution_count": 18,
     "metadata": {},
     "output_type": "execute_result"
    }
   ],
   "source": [
    "y_pred_train1"
   ]
  },
  {
   "cell_type": "code",
   "execution_count": 19,
   "id": "af7b6f13",
   "metadata": {},
   "outputs": [
    {
     "data": {
      "text/plain": [
       "Text(0, 0.5, 'gpa')"
      ]
     },
     "execution_count": 19,
     "metadata": {},
     "output_type": "execute_result"
    },
    {
     "data": {
      "image/png": "[encoded data removed]",
      "text/plain": [
       "<Figure size 640x480 with 1 Axes>"
      ]
     },
     "metadata": {},
     "output_type": "display_data"
    }
   ],
   "source": [
    "# trained model on train data(x_train,y_train)\n",
    "import matplotlib.pyplot as plt\n",
    "plt.scatter(x_train,y_train,color='green',marker='.')\n",
    "plt.plot(x_train,y_pred_train1,color='red')\n",
    "plt.xlabel(\"study_hours(per week)\")\n",
    "plt.ylabel(\"gpa\")"
   ]
  },
  {
   "cell_type": "code",
   "execution_count": 20,
   "id": "3cfd8b2a",
   "metadata": {},
   "outputs": [],
   "source": [
    "import numpy as np\n",
    "x_test=np.array(x_test).reshape(-1,1)"
   ]
  },
  {
   "cell_type": "code",
   "execution_count": 21,
   "id": "b4453fdf",
   "metadata": {},
   "outputs": [
    {
     "data": {
      "text/plain": [
       "array([3.55919589, 3.55919589, 3.55919589, 3.56990428, 3.61273785,\n",
       "       3.55919589, 3.5677626 , 3.60202946, 3.60202946, 3.55277085,\n",
       "       3.55277085, 3.56347925, 3.55062918, 3.58061267, 3.55919589,\n",
       "       3.59132107, 3.59132107, 3.55277085, 3.57632932, 3.55491253,\n",
       "       3.55491253, 3.58061267, 3.59132107, 3.56990428, 3.58061267,\n",
       "       3.60202946, 3.5677626 , 3.56990428, 3.55919589, 3.55919589,\n",
       "       3.58061267, 3.58275435, 3.55491253, 3.58061267, 3.60202946,\n",
       "       3.55277085, 3.58061267, 3.60202946, 3.56990428, 3.54420414,\n",
       "       3.56990428, 3.59132107, 3.58061267, 3.54634582, 3.58061267,\n",
       "       3.56990428, 3.55491253, 3.55919589, 3.62344624, 3.55919589,\n",
       "       3.57204596, 3.54420414, 3.62344624, 3.55919589, 3.56990428,\n",
       "       3.60202946, 3.55170001, 3.56347925, 3.56990428, 3.55919589,\n",
       "       3.58061267, 3.61273785, 3.58061267, 3.56990428, 3.56990428,\n",
       "       3.56347925, 3.55919589, 3.58061267, 3.5677626 , 3.56347925,\n",
       "       3.62344624, 3.55919589, 3.5677626 , 3.58061267, 3.58061267,\n",
       "       3.58061267, 3.61273785, 3.63415463])"
      ]
     },
     "execution_count": 21,
     "metadata": {},
     "output_type": "execute_result"
    }
   ],
   "source": [
    "y_pred_test1=lr.predict(x_test)\n",
    "y_pred_test1"
   ]
  },
  {
   "cell_type": "code",
   "execution_count": 22,
   "id": "d52b2fc0",
   "metadata": {},
   "outputs": [
    {
     "data": {
      "text/plain": [
       "Text(0, 0.5, 'gpa')"
      ]
     },
     "execution_count": 22,
     "metadata": {},
     "output_type": "execute_result"
    },
    {
     "data": {
      "image/png": "[encoded data removed]",
      "text/plain": [
       "<Figure size 640x480 with 1 Axes>"
      ]
     },
     "metadata": {},
     "output_type": "display_data"
    }
   ],
   "source": [
    "#testing the trained model on test data(x_test,y_test)\n",
    "import matplotlib.pyplot as plt\n",
    "plt.scatter(x_test,y_test,color='green',marker='+')\n",
    "plt.plot(x_test,y_pred_test1,color='red')\n",
    "plt.xlabel(\"study_hours(per week)\")\n",
    "plt.ylabel(\"gpa\")"
   ]
  },
  {
   "cell_type": "code",
   "execution_count": 23,
   "id": "fd218a85",
   "metadata": {},
   "outputs": [],
   "source": [
    "gpa=lr.predict([[0]])"
   ]
  },
  {
   "cell_type": "code",
   "execution_count": 24,
   "id": "920bb73c",
   "metadata": {},
   "outputs": [
    {
     "data": {
      "text/plain": [
       "array([3.5377791])"
      ]
     },
     "execution_count": 24,
     "metadata": {},
     "output_type": "execute_result"
    }
   ],
   "source": [
    "gpa"
   ]
  },
  {
   "cell_type": "code",
   "execution_count": 25,
   "id": "0ae8332f",
   "metadata": {},
   "outputs": [],
   "source": [
    "#__________________________thank-you____________________________________________"
   ]
  },
  {
   "cell_type": "code",
   "execution_count": null,
   "id": "690a1389",
   "metadata": {},
   "outputs": [],
   "source": []
  }
 ],
 "metadata": {
  "kernelspec": {
   "display_name": "Python 3 (ipykernel)",
   "language": "python",
   "name": "python3"
  },
  "language_info": {
   "codemirror_mode": {
    "name": "ipython",
    "version": 3
   },
   "file_extension": ".py",
   "mimetype": "text/x-python",
   "name": "python",
   "nbconvert_exporter": "python",
   "pygments_lexer": "ipython3",
   "version": "3.11.5"
  }
 },
 "nbformat": 4,
 "nbformat_minor": 5
}
